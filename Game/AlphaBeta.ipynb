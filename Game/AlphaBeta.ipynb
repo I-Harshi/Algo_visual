{
 "cells": [
  {
   "cell_type": "markdown",
   "metadata": {},
   "source": [
    "## Alpha-Beta Pruning :"
   ]
  },
  {
   "cell_type": "code",
   "execution_count": 1,
   "metadata": {},
   "outputs": [
    {
     "name": "stdout",
     "output_type": "stream",
     "text": [
      "Enter 4 leaf node values:\n",
      "Maximizer at depth 2, node 0\n",
      "Minimizer at depth 1, node 0\n",
      "Maximizer at depth 0, node 0\n",
      "Returning heuristic value 3 from node 0 at depth 0\n",
      "Minimizer at node 0, depth 1: min_eval=3, alpha=-inf, beta=3\n",
      "Maximizer at depth 0, node 1\n",
      "Returning heuristic value 5 from node 1 at depth 0\n",
      "Minimizer at node 0, depth 1: min_eval=3, alpha=-inf, beta=3\n",
      "Maximizer at node 0, depth 2: max_eval=3, alpha=3, beta=inf\n",
      "Minimizer at depth 1, node 1\n",
      "Maximizer at depth 0, node 2\n",
      "Returning heuristic value 9 from node 2 at depth 0\n",
      "Minimizer at node 1, depth 1: min_eval=9, alpha=3, beta=9\n",
      "Maximizer at depth 0, node 3\n",
      "Returning heuristic value 4 from node 3 at depth 0\n",
      "Minimizer at node 1, depth 1: min_eval=4, alpha=3, beta=4\n",
      "Maximizer at node 0, depth 2: max_eval=4, alpha=4, beta=inf\n",
      "\n",
      "The optimal value is: 4\n"
     ]
    }
   ],
   "source": [
    "import math\n",
    "\n",
    "def alpha_beta(node, depth, alpha, beta, maximizing_player, node_index):\n",
    "    print(f\"{'Maximizer' if maximizing_player else 'Minimizer'} at depth {depth}, node {node_index}\")\n",
    "\n",
    "    if depth == 0 or is_terminal(node):\n",
    "        heuristic_value = utility(node, node_index)\n",
    "        print(f\"Returning heuristic value {heuristic_value} from node {node_index} at depth {depth}\")\n",
    "        return heuristic_value\n",
    "\n",
    "    if maximizing_player:\n",
    "        max_eval = -math.inf\n",
    "        for i, child in enumerate(actions(node)):\n",
    "            eval = alpha_beta(result(node, child), depth - 1, alpha, beta, False, node_index * 2 + i)\n",
    "            max_eval = max(max_eval, eval)\n",
    "            alpha = max(alpha, eval)\n",
    "            print(f\"Maximizer at node {node_index}, depth {depth}: max_eval={max_eval}, alpha={alpha}, beta={beta}\")\n",
    "\n",
    "            if beta <= alpha:\n",
    "                print(f\"Pruning branch at node {node_index}, depth {depth} (beta={beta} <= alpha={alpha})\")\n",
    "                break\n",
    "        return max_eval\n",
    "    else:\n",
    "        min_eval = math.inf\n",
    "        for i, child in enumerate(actions(node)):\n",
    "            eval = alpha_beta(result(node, child), depth - 1, alpha, beta, True, node_index * 2 + i)\n",
    "            min_eval = min(min_eval, eval)\n",
    "            beta = min(beta, eval)\n",
    "            print(f\"Minimizer at node {node_index}, depth {depth}: min_eval={min_eval}, alpha={alpha}, beta={beta}\")\n",
    "\n",
    "            if beta <= alpha:\n",
    "                print(f\"Pruning branch at node {node_index}, depth {depth} (beta={beta} <= alpha={alpha})\")\n",
    "                break\n",
    "        return min_eval\n",
    "\n",
    "def utility(node, node_index):\n",
    "    return node[node_index]\n",
    "\n",
    "def is_terminal(node):\n",
    "    return False\n",
    "\n",
    "def actions(node):\n",
    "    return [0, 1]\n",
    "\n",
    "def result(node, action):\n",
    "    return node\n",
    "\n",
    "max_depth = int(input(\"Enter the maximum depth of the tree: \"))\n",
    "num_leaves = 2 ** max_depth\n",
    "\n",
    "print(f\"Enter {num_leaves} leaf node values:\")\n",
    "values = [int(input()) for _ in range(num_leaves)]\n",
    "\n",
    "optimal_value = alpha_beta(values, max_depth, -math.inf, math.inf, True, 0)\n",
    "\n",
    "print(\"\\nThe optimal value is:\", optimal_value)\n"
   ]
  }
 ],
 "metadata": {
  "kernelspec": {
   "display_name": "Python 3",
   "language": "python",
   "name": "python3"
  },
  "language_info": {
   "codemirror_mode": {
    "name": "ipython",
    "version": 3
   },
   "file_extension": ".py",
   "mimetype": "text/x-python",
   "name": "python",
   "nbconvert_exporter": "python",
   "pygments_lexer": "ipython3",
   "version": "3.11.3"
  }
 },
 "nbformat": 4,
 "nbformat_minor": 2
}
